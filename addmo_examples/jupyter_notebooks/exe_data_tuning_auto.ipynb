{
    "cells": [
        {
            "cell_type": "code",
            "execution_count": null,
            "metadata": {},
            "outputs": [],
            "source": "import os\nimport json\nimport pandas as pd\nfrom addmo.util.plotting_utils import save_pdf\nfrom addmo.util.definitions import results_dir_data_tuning\nfrom addmo.util.load_save_utils import root_dir\nfrom addmo.util.experiment_logger import ExperimentLogger\nfrom addmo.util.experiment_logger import LocalLogger\nfrom addmo.util.experiment_logger import WandbLogger\nfrom addmo.s1_data_tuning_auto.config.data_tuning_auto_config import DataTuningAutoSetup\nfrom addmo.s1_data_tuning_auto.data_tuner_auto import DataTunerAuto\nfrom addmo.s5_insights.model_plots.time_series import plot_timeseries_combined\nfrom addmo.util.load_save import load_config_from_json\n\ndef _exe_data_tuning_auto(config, user_input='y'):\n    \"\"\"\n    Execute the system_data tuning process automatically.\n    \"\"\"\n\n    # Configure the logger\n    LocalLogger.active = True\n    if LocalLogger.active:\n        LocalLogger.directory = results_dir_data_tuning(config, user_input)\n    WandbLogger.project = \"addmo-test_data_auto_tuning\"\n    WandbLogger.active = False\n    if WandbLogger.active:\n        WandbLogger.directory = results_dir_data_tuning(config,user_input)\n\n    # Initialize logging\n    ExperimentLogger.start_experiment(config=config)\n\n    # Create the system_data tuner\n    tuner = DataTunerAuto(config=config)\n\n    # Tune the system_data\n    tuned_x = tuner.tune_auto()\n    y = tuner.y\n\n    tuned_xy = pd.concat([y, tuned_x], axis=1, join=\"inner\").bfill()\n\n    # Log the tuned system_data\n    file_name = 'tuned_xy_auto'\n    ExperimentLogger.log_artifact(tuned_xy, file_name, art_type='system_data')\n\n    # Return file paths for plotting data\n    saved_data_path = os.path.join(LocalLogger.directory, file_name + '.csv')\n    data = pd.read_csv(saved_data_path, delimiter=\",\", index_col=0, encoding=\"latin1\", header=0)\n    config_path = os.path.join(LocalLogger.directory, \"config.json\")\n    with open(config_path, 'r') as f:\n        plot_config = json.load(f)\n\n    # Plot tuned data\n    figures = plot_timeseries_combined(plot_config, data)\n    for fig in figures:\n        fig.show()\n    os.makedirs(LocalLogger.directory, exist_ok=True)\n    for idx, fig in enumerate(figures):\n        suffix = \"_2weeks\" if idx == 1 else \"\"\n        plot_path = os.path.join(LocalLogger.directory, f\"{file_name}{suffix}\")\n        save_pdf(fig, plot_path)\n    print(\"Finished\")\n\ndef exe_data_tuning_auto(user_input='y'):\n    \"\"\"Execute the system_data tuning process with user defined config.\"\"\"\n    # Path to the config file\n    path_to_config = os.path.join(root_dir(), 'addmo', 's1_data_tuning_auto', 'config',\n                                  'data_tuning_auto_config.json')\n\n    # Create the config object\n    config = load_config_from_json(path_to_config, DataTuningAutoSetup)\n    _exe_data_tuning_auto(config, user_input='y')\n\ndef exe_data_tuning_auto_default_config(user_input='y'):\n    \"\"\"Execute the system_data tuning process with default config.\"\"\"\n    config = DataTuningAutoSetup()\n    _exe_data_tuning_auto(config, user_input='y')\n\nif __name__ == \"__main__\":\n    user_input = input(\"To overwrite the existing content type in 'data_tuning_experiment_auto' results directory <y>, for deleting the current contents type <d>: \")\n    exe_data_tuning_auto(user_input)\n"
        }
    ],
    "metadata": {
        "kernelspec": {
            "display_name": "Python 3",
            "language": "python",
            "name": "python3"
        },
        "language_info": {
            "codemirror_mode": {
                "name": "ipython",
                "version": 3
            },
            "file_extension": ".py",
            "mimetype": "text/x-python",
            "name": "python",
            "nbconvert_exporter": "python",
            "pygments_lexer": "ipython3",
            "version": "3.6.4"
        }
    },
    "nbformat": 4,
    "nbformat_minor": 2
}