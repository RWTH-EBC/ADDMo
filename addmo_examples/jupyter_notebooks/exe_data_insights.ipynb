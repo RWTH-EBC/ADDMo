{
    "cells": [
        {
            "cell_type": "code",
            "execution_count": null,
            "metadata": {},
            "outputs": [],
            "source": "import os\nimport pandas as pd, csv\nimport datetime\nfrom addmo.s5_insights.model_plots.time_series import plot_timeseries_combined\nfrom addmo.s5_insights.model_plots.parallel_plots import parallel_plots, parallel_plots_interactive\nfrom addmo.util.plotting_utils import save_pdf\nfrom addmo.s5_insights.model_plots.carpet_plots import  plot_carpets, plot_carpets_with_buckets, prediction_func_4_regressor\nfrom addmo.util.definitions import  return_results_dir_model_tuning, return_best_model, load_model_config\nfrom addmo.util.load_save import ensure_datetime_index\nfrom addmo.s3_model_tuning.models.model_factory import ModelFactory\n\ndef exe_time_series_plot(dir, plot_name, plot_dir, save=True):\n    \"\"\"\n    Executes plotting of input data.\n    \"\"\"\n    # Load config\n    model_config = load_model_config(dir)\n\n    # Load data\n    data_path = model_config['abs_path_to_data']\n    if data_path.endswith(\".xlsx\"):\n        data = pd.read_excel(data_path, index_col=0,\n                             header=0)  # change loading of data as per the input data file ext and delimiter\n    elif data_path.endswith(\".csv\"):\n        data = pd.read_csv(data_path, delimiter=csv.Sniffer().sniff(open(data_path).read(1024), delimiters=\";,\").delimiter, index_col=0, encoding=\"latin1\", header=0)\n    else:\n        print('No data file found.')\n\n    data = ensure_datetime_index(data,origin=datetime.datetime(2019, 1, 1), fmt=\"%Y-%m-%d %H:%M:%S\")\n    # Execute plotting\n    figures = plot_timeseries_combined(model_config, data)\n\n\n    if not isinstance(figures, list):\n        figures = [figures]\n    if save:\n        os.makedirs(plot_dir, exist_ok=True)\n        for idx, fig in enumerate(figures):\n            suffix = \"_2weeks\" if idx == 1 else \"\"\n            plot_path = os.path.join(plot_dir, f\"{plot_name}{suffix}\")\n            save_pdf(fig, plot_path)\n    else:\n        for fig in figures:\n            fig.show()\n\ndef exe_carpet_plots(dir, plot_name, plot_dir, save = True, bounds= None, defaults_dict= None, combinations= None, path_to_regressor=None):\n    \"\"\"\n    Executes carpet model_plots of input data features along with predictions using saved model.\n    \"\"\"\n    # Load config\n    model_config = load_model_config(dir)\n\n    if path_to_regressor is None:\n        path_to_regressor =  return_best_model(dir) # return default path where model is saved\n    # Load regressor\n    regressor = ModelFactory.load_model(path_to_regressor)\n    pred_func_1 = prediction_func_4_regressor(regressor)\n    # Load target variable\n    target = model_config[\"name_of_target\"]\n    ask_data_path= True\n\n    # No need to use input data if user provides bounds and default dictionary\n    if bounds is not None and defaults_dict is not None:\n        variables = regressor.metadata[\"features_ordered\"]\n        measurements_data = None\n        ask_data_path = False\n\n    # Load the input data and fetch variables from it\n    if ask_data_path:\n        data_path = model_config['abs_path_to_data']\n        if data_path.endswith(\".xlsx\"):\n            data = pd.read_excel(data_path, index_col=0, header=0)  # change loading of data as per the input data file ext and delimiter\n        elif data_path.endswith(\".csv\"):\n            data = pd.read_csv(data_path,\n                               delimiter=csv.Sniffer().sniff(open(data_path).read(1024), delimiters=\";,\").delimiter,\n                               index_col=0, encoding=\"latin1\", header=0)\n\n        else:\n            print('No data file found.')\n\n        measurements_data = data.drop(target, axis=1)\n        variables = list(measurements_data.columns)\n\n    # Execute plotting\n    plt= plot_carpets(variables=variables, measurements_data= measurements_data, regressor_func= pred_func_1, bounds = bounds, combinations = combinations, defaults_dict = defaults_dict)\n\n    if save:\n        os.makedirs(plot_dir, exist_ok=True)\n        plot_path = os.path.join(plot_dir, plot_name)\n        plt.show()\n        save_pdf(plt, plot_path)\n    else:\n        plt.show()\n\ndef exe_scatter_carpet_plots(dir, plot_name, plot_dir, save = True, bounds= None, defaults_dict= None, combinations= None, path_to_regressor= None):\n    \"\"\"\n    Executes carpet model_plots of input data features along with predictions using saved model.\n    \"\"\"\n\n    # If model config is saved in same directory:\n    # Load config\n    model_config = load_model_config(dir)\n\n    if path_to_regressor is None:\n        path_to_regressor = return_best_model(dir)  # return default path where model is saved\n    # Load regressor\n    regressor = ModelFactory.load_model(path_to_regressor)\n    pred_func_1 = prediction_func_4_regressor(regressor)\n\n    # Load target variable\n    target = model_config[\"name_of_target\"]\n\n    # Load the input data and fetch variables from it\n\n    data_path = model_config['abs_path_to_data']\n    if data_path.endswith(\".xlsx\"):\n        data = pd.read_excel(data_path, index_col=0, header=0)  # change loading of data as per the input data file ext and delimiter\n    elif data_path.endswith(\".csv\"):\n        data = pd.read_csv(data_path, delimiter=csv.Sniffer().sniff(open(data_path).read(1024), delimiters=\";,\").delimiter, index_col=0, encoding=\"latin1\", header=0)\n    else:\n        print('No data file found.')\n\n    measurements_data = data.drop(target, axis=1)\n    variables = list(measurements_data.columns)\n    target_values = pd.DataFrame(data[target])\n\n    # Execute plotting\n    plt = plot_carpets_with_buckets(variables=variables, measurements_data= measurements_data, target_values= target_values, regressor_func= pred_func_1, bounds = bounds, combinations = combinations, defaults_dict = defaults_dict)\n\n    if save:\n        os.makedirs(plot_dir, exist_ok=True)\n        plot_path = os.path.join(plot_dir, plot_name)\n        plt.show()\n        save_pdf(plt, plot_path)\n    else:\n        plt.show()\n"
        },
        {
            "cell_type": "markdown",
            "metadata": {},
            "source": "Please define the missing TODOs in the section below according to the docstrings.\n"
        },
        {
            "cell_type": "code",
            "execution_count": null,
            "metadata": {},
            "outputs": [],
            "source": "\"\"\"\nExecutes parallel model_plots of input data features along with predictions using saved model.\n\"\"\"\ndir = \"TODO: Add a valid input according to the docstring above\"\nplot_name = \"TODO: Add a valid input according to the docstring above\"\nplot_dir = \"TODO: Add a valid input according to the docstring above\"\nsave  =  True\npath_to_regressor = None\n"
        },
        {
            "cell_type": "markdown",
            "metadata": {},
            "source": "Load config\n"
        },
        {
            "cell_type": "code",
            "execution_count": null,
            "metadata": {},
            "outputs": [],
            "source": "model_config = load_model_config(dir)\n"
        },
        {
            "cell_type": "markdown",
            "metadata": {},
            "source": "Load regressor\n"
        },
        {
            "cell_type": "code",
            "execution_count": null,
            "metadata": {},
            "outputs": [],
            "source": "if path_to_regressor is None:\n    path_to_regressor = return_best_model(dir)\nregressor = ModelFactory.load_model(path_to_regressor)\n"
        },
        {
            "cell_type": "markdown",
            "metadata": {},
            "source": "Load target and data\n"
        },
        {
            "cell_type": "code",
            "execution_count": null,
            "metadata": {},
            "outputs": [],
            "source": "target = model_config[\"name_of_target\"]\ndata_path = model_config['abs_path_to_data']\nif data_path.endswith(\".xlsx\"):\n    data = pd.read_excel(data_path, index_col=0,\n                         header=0)  # change loading of data as per the input data file ext and delimiter\nelif data_path.endswith(\".csv\"):\n    data = pd.read_csv(data_path, delimiter=csv.Sniffer().sniff(open(data_path).read(1024), delimiters=\";,\").delimiter, index_col=0, encoding=\"latin1\", header=0)\n\nelse:\n    print('No data file found.')\n"
        },
        {
            "cell_type": "markdown",
            "metadata": {},
            "source": "Execute plotting\n"
        },
        {
            "cell_type": "code",
            "execution_count": null,
            "metadata": {},
            "outputs": [],
            "source": "plt = parallel_plots(target, data, regressor)\n\nif save:\n    os.makedirs(plot_dir, exist_ok=True)\n    plot_path = os.path.join(plot_dir, plot_name)\n    save_pdf(plt, plot_path)\n\nexe_interactive_parallel_plot(dir, plot_name, plot_dir, save = True, path_to_regressor=None):\n\"\"\"\nExecutes parallel model_plots of input data features along with predictions using saved model.\n\"\"\"\n"
        },
        {
            "cell_type": "markdown",
            "metadata": {},
            "source": "Load config\n"
        },
        {
            "cell_type": "code",
            "execution_count": null,
            "metadata": {},
            "outputs": [],
            "source": "model_config = load_model_config(dir)\n"
        },
        {
            "cell_type": "markdown",
            "metadata": {},
            "source": "Load regressor\n"
        },
        {
            "cell_type": "code",
            "execution_count": null,
            "metadata": {},
            "outputs": [],
            "source": "if path_to_regressor is None:\n    path_to_regressor = return_best_model(dir)\nregressor = ModelFactory.load_model(path_to_regressor)\n"
        },
        {
            "cell_type": "markdown",
            "metadata": {},
            "source": "Load target and data\n"
        },
        {
            "cell_type": "code",
            "execution_count": null,
            "metadata": {},
            "outputs": [],
            "source": "target = model_config[\"name_of_target\"]\ndata_path = model_config['abs_path_to_data']\nif data_path.endswith(\".xlsx\"):\n    data = pd.read_excel(data_path, index_col=0, header=0)  # change loading of data as per the input data file ext and delimiter\nelif data_path.endswith(\".csv\"):\n    data = pd.read_csv(data_path, delimiter=csv.Sniffer().sniff(open(data_path).read(1024), delimiters=\";,\").delimiter, index_col=0, encoding=\"latin1\", header=0)\n\nelse:\n    print('No data file found.')\n"
        },
        {
            "cell_type": "markdown",
            "metadata": {},
            "source": "Execute plotting\n"
        },
        {
            "cell_type": "code",
            "execution_count": null,
            "metadata": {},
            "outputs": [],
            "source": "plt = parallel_plots_interactive(target, data, regressor)\n\nif save:\n    os.makedirs(plot_dir, exist_ok=True)\n    plot_path = os.path.join(plot_dir, plot_name)\n    plt.write_html(plot_path)\n"
        }
    ],
    "metadata": {
        "kernelspec": {
            "display_name": "Python 3",
            "language": "python",
            "name": "python3"
        },
        "language_info": {
            "codemirror_mode": {
                "name": "ipython",
                "version": 3
            },
            "file_extension": ".py",
            "mimetype": "text/x-python",
            "name": "python",
            "nbconvert_exporter": "python",
            "pygments_lexer": "ipython3",
            "version": "3.6.4"
        }
    },
    "nbformat": 4,
    "nbformat_minor": 2
}