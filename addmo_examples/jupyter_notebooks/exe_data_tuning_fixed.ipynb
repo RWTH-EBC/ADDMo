{
    "cells": [
        {
            "cell_type": "code",
            "execution_count": null,
            "metadata": {},
            "outputs": [],
            "source": "import os\nimport json\nimport pandas as pd\nfrom addmo.util.definitions import results_dir_data_tuning\nfrom addmo.util.load_save_utils import root_dir\nfrom addmo.util.experiment_logger import LocalLogger\nfrom addmo.util.experiment_logger import WandbLogger\nfrom addmo.util.experiment_logger import ExperimentLogger\nfrom addmo.s2_data_tuning.config.data_tuning_config import DataTuningFixedConfig\nfrom addmo.s2_data_tuning.data_tuner_fixed import DataTunerByConfig\nfrom addmo.util.load_save import load_data\nfrom addmo.util.plotting_utils import save_pdf\nfrom addmo.util.data_handling import split_target_features\nfrom addmo.s5_insights.model_plots.time_series import plot_timeseries_combined\nfrom addmo.util.load_save import load_config_from_json\n\ndef _exe_data_tuning(config, user_input='y'):\n    \"\"\"\n    Execute the system_data tuning process in a fixed manner.\n    \"\"\"\n\n    # Configure the logger\n    LocalLogger.active = True\n    if LocalLogger.active:\n        LocalLogger.directory = results_dir_data_tuning(config,user_input)\n\n    WandbLogger.project = \"addmo-tests_data_tuning_fixed\"\n    WandbLogger.active = False\n    if WandbLogger.active:\n        WandbLogger.directory = results_dir_data_tuning(config,user_input)\n\n    # Initialize logging\n    ExperimentLogger.start_experiment(config=config)\n\n    # Create the system_data tuner\n    tuner = DataTunerByConfig(config=config)\n\n    # Load the system_data\n    xy_raw = load_data(config.abs_path_to_data)\n    ExperimentLogger.log({\"xy_testraw\": xy_raw.iloc[[0, 1, 2, -3, -2, -1]]})\n\n    # Split the system_data\n    x, y = split_target_features(config.name_of_target, xy_raw)\n\n    # Tune the system_data\n    tuned_x = tuner.tune_fixed(xy_raw)\n    ExperimentLogger.log({\"x_tuned\": tuned_x.iloc[[0, 1, 2, -3, -2, -1]]})\n\n    # Merge target and features\n    xy_tuned = tuned_x.join(y)\n    ExperimentLogger.log({\"xy_tuned\": xy_tuned.iloc[[0, 1, 2, -3, -2, -1]]})\n\n    # Drop NaNs\n    xy_tuned = xy_tuned.dropna()\n    ExperimentLogger.log({\"xy_tuned\": xy_tuned.iloc[[0, 1, 2, -3, -2, -1]]})\n\n    # Log the tuned system_data\n    file_name = 'tuned_xy_fixed'\n    ExperimentLogger.log_artifact(xy_tuned, file_name, art_type='system_data')\n\n    # Finish logging\n    ExperimentLogger.finish_experiment()\n\n    # Return file paths for plotting data\n    saved_data_path = os.path.join(LocalLogger.directory, file_name + '.csv')\n    data = pd.read_csv(saved_data_path, delimiter=\",\", index_col=0, encoding=\"latin1\", header=0)\n    config_path = os.path.join(LocalLogger.directory, \"config.json\")\n    with open(config_path, 'r') as f:\n        plot_config = json.load(f)\n\n    # Plot tuned data\n\n    figures = plot_timeseries_combined(plot_config,data)\n    for fig in figures:\n        fig.show()\n    os.makedirs(LocalLogger.directory, exist_ok=True)\n    for idx, fig in enumerate(figures):\n        suffix = \"_2weeks\" if idx == 1 else \"\"\n        plot_path = os.path.join(LocalLogger.directory, f\"{file_name}{suffix}\")\n        save_pdf(fig, plot_path)\n\n    print(\"Finished\")\n"
        },
        {
            "cell_type": "markdown",
            "metadata": {},
            "source": "Please define the missing TODOs in the section below according to the docstrings.\n"
        },
        {
            "cell_type": "code",
            "execution_count": null,
            "metadata": {},
            "outputs": [],
            "source": "\"\"\"\nExecute the system_data tuning process from a config file.\n\"\"\"\nuser_input = 'y'\n\npath_to_config = os.path.join(\n    root_dir(), 'addmo', 's2_data_tuning', 'config', 'data_tuning_config.json'\n)\nconfig = load_config_from_json(path_to_config, DataTuningFixedConfig)\n_exe_data_tuning(config, user_input)\n\n\ndefault_config_exe_data_tuning_fixed(user_input='y'):\n\"\"\"Execute the system_data tuning process with default config.\"\"\"\nconfig = DataTuningFixedConfig()\n_exe_data_tuning(config, user_input)\n"
        }
    ],
    "metadata": {
        "kernelspec": {
            "display_name": "Python 3",
            "language": "python",
            "name": "python3"
        },
        "language_info": {
            "codemirror_mode": {
                "name": "ipython",
                "version": 3
            },
            "file_extension": ".py",
            "mimetype": "text/x-python",
            "name": "python",
            "nbconvert_exporter": "python",
            "pygments_lexer": "ipython3",
            "version": "3.6.4"
        }
    },
    "nbformat": 4,
    "nbformat_minor": 2
}