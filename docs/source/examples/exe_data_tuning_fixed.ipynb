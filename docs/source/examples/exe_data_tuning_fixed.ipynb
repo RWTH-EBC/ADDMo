{
    "cells": [
        {
            "cell_type": "code",
            "execution_count": null,
            "metadata": {},
            "outputs": [],
            "source": "import os\nimport json\nimport pandas as pd\nfrom addmo.util.definitions import results_dir_data_tuning\nfrom addmo.util.load_save_utils import root_dir\nfrom addmo.util.experiment_logger import LocalLogger\nfrom addmo.util.experiment_logger import WandbLogger\nfrom addmo.util.experiment_logger import ExperimentLogger\nfrom addmo.s2_data_tuning.config.data_tuning_config import DataTuningFixedConfig\nfrom addmo.s2_data_tuning.data_tuner_fixed import DataTunerByConfig\nfrom addmo.util.load_save import load_data\nfrom addmo.util.plotting_utils import save_pdf\nfrom addmo.util.data_handling import split_target_features\nfrom addmo.s5_insights.model_plots.time_series import plot_timeseries_combined\nfrom addmo.util.load_save import load_config_from_json\n\ndef _exe_data_tuning(config, user_input='y'):\n    \"\"\"\n    Execute the system_data tuning process in a fixed manner.\n    \"\"\"\n\n    # Configure the logger\n    LocalLogger.active = True\n    if LocalLogger.active:\n        LocalLogger.directory = results_dir_data_tuning(config,user_input)\n\n    WandbLogger.project = \"addmo-tests_data_tuning_fixed\"\n    WandbLogger.active = False\n    if WandbLogger.active:\n        WandbLogger.directory = results_dir_data_tuning(config,user_input)\n\n    # Initialize logging\n    ExperimentLogger.start_experiment(config=config)\n\n    # Create the system_data tuner\n    tuner = DataTunerByConfig(config=config)\n\n    # Load the system_data\n    xy_raw = load_data(config.abs_path_to_data)\n\n    # Split the system_data\n    x, y = split_target_features(config.name_of_target, xy_raw)\n\n    # Tune the system_data\n    tuned_x = tuner.tune_fixed(xy_raw)\n\n    # Merge target and features\n    xy_tuned = tuned_x.join(y)\n\n    # Drop NaNs\n    xy_tuned = xy_tuned.dropna()\n\n    # Log the tuned system_data\n    file_name = 'tuned_xy_fixed'\n    ExperimentLogger.log_artifact(xy_tuned, file_name, art_type='system_data')\n\n    # Finish logging\n    ExperimentLogger.finish_experiment()\n\n    # Return file paths for plotting data\n    saved_data_path = os.path.join(LocalLogger.directory, file_name + '.csv')\n    data = pd.read_csv(saved_data_path, delimiter=\",\", index_col=0, encoding=\"latin1\", header=0)\n    config_path = os.path.join(LocalLogger.directory, \"config.json\")\n    with open(config_path, 'r') as f:\n        plot_config = json.load(f)\n\n    # Plot tuned data\n\n    figures = plot_timeseries_combined(plot_config,data)\n    for fig in figures:\n        fig.show()\n    os.makedirs(LocalLogger.directory, exist_ok=True)\n    for idx, fig in enumerate(figures):\n        suffix = \"_2weeks\" if idx == 1 else \"\"\n        plot_path = os.path.join(LocalLogger.directory, f\"{file_name}{suffix}\")\n        save_pdf(fig, plot_path)\n    # Data tuning completed\n    print(\"Finished\")\n\ndef default_config_exe_data_tuning_fixed(user_input='y'):\n    \"\"\"Execute the system_data tuning process with default config.\n    Parameters:\n        user_input : str, optional\n            If 'y', the contents of the target results directory will be overwritten.\n            If 'd', the directory contents will be deleted. Default is 'y'.\"\"\"\n    # Initialize a default config (without loading JSON)\n    config = DataTuningFixedConfig()\n    # Run data tuning execution\n    _exe_data_tuning(config, user_input)\n"
        },
        {
            "cell_type": "markdown",
            "metadata": {},
            "source": "Please define the missing TODOs in the section below according to the docstrings.\n"
        },
        {
            "cell_type": "code",
            "execution_count": null,
            "metadata": {},
            "outputs": [],
            "source": "\"\"\"\nExecute the system_data tuning process from a config file.\n\"\"\"\nuser_input = 'y'\n"
        },
        {
            "cell_type": "markdown",
            "metadata": {},
            "source": "Path to the config file\n"
        },
        {
            "cell_type": "code",
            "execution_count": null,
            "metadata": {},
            "outputs": [],
            "source": "path_to_config = os.path.join(\n    root_dir(), 'addmo', 's2_data_tuning', 'config', 'data_tuning_config.json'\n)\n"
        },
        {
            "cell_type": "markdown",
            "metadata": {},
            "source": "Create the config object\n"
        },
        {
            "cell_type": "code",
            "execution_count": null,
            "metadata": {},
            "outputs": [],
            "source": "config = load_config_from_json(path_to_config, DataTuningFixedConfig)\n"
        },
        {
            "cell_type": "markdown",
            "metadata": {},
            "source": "Configure the logger\n"
        },
        {
            "cell_type": "code",
            "execution_count": null,
            "metadata": {},
            "outputs": [],
            "source": "LocalLogger.active = True\nif LocalLogger.active:\n    LocalLogger.directory = results_dir_data_tuning(config, user_input)\n\nWandbLogger.project = \"addmo-tests_data_tuning_fixed\"\nWandbLogger.active = False\nif WandbLogger.active:\n    WandbLogger.directory = results_dir_data_tuning(config, user_input)\n"
        },
        {
            "cell_type": "markdown",
            "metadata": {},
            "source": "Initialize logging\n"
        },
        {
            "cell_type": "code",
            "execution_count": null,
            "metadata": {},
            "outputs": [],
            "source": "ExperimentLogger.start_experiment(config=config)\n"
        },
        {
            "cell_type": "markdown",
            "metadata": {},
            "source": "Create the system_data tuner\n"
        },
        {
            "cell_type": "code",
            "execution_count": null,
            "metadata": {},
            "outputs": [],
            "source": "tuner = DataTunerByConfig(config=config)\n"
        },
        {
            "cell_type": "markdown",
            "metadata": {},
            "source": "Load the system_data\n"
        },
        {
            "cell_type": "code",
            "execution_count": null,
            "metadata": {},
            "outputs": [],
            "source": "xy_raw = load_data(config.abs_path_to_data)\n"
        },
        {
            "cell_type": "markdown",
            "metadata": {},
            "source": "Split the system_data\n"
        },
        {
            "cell_type": "code",
            "execution_count": null,
            "metadata": {},
            "outputs": [],
            "source": "x, y = split_target_features(config.name_of_target, xy_raw)\n"
        },
        {
            "cell_type": "markdown",
            "metadata": {},
            "source": "Tune the system_data\n"
        },
        {
            "cell_type": "code",
            "execution_count": null,
            "metadata": {},
            "outputs": [],
            "source": "tuned_x = tuner.tune_fixed(xy_raw)\n"
        },
        {
            "cell_type": "markdown",
            "metadata": {},
            "source": "Merge target and features\n"
        },
        {
            "cell_type": "code",
            "execution_count": null,
            "metadata": {},
            "outputs": [],
            "source": "xy_tuned = tuned_x.join(y)\n"
        },
        {
            "cell_type": "markdown",
            "metadata": {},
            "source": "Drop NaNs\n"
        },
        {
            "cell_type": "code",
            "execution_count": null,
            "metadata": {},
            "outputs": [],
            "source": "xy_tuned = xy_tuned.dropna()\n"
        },
        {
            "cell_type": "markdown",
            "metadata": {},
            "source": "Log the tuned system_data\n"
        },
        {
            "cell_type": "code",
            "execution_count": null,
            "metadata": {},
            "outputs": [],
            "source": "file_name = 'tuned_xy_fixed'\nExperimentLogger.log_artifact(xy_tuned, file_name, art_type='system_data')\n"
        },
        {
            "cell_type": "markdown",
            "metadata": {},
            "source": "Finish logging\n"
        },
        {
            "cell_type": "code",
            "execution_count": null,
            "metadata": {},
            "outputs": [],
            "source": "ExperimentLogger.finish_experiment()\n"
        },
        {
            "cell_type": "markdown",
            "metadata": {},
            "source": "Return file paths for plotting data\n"
        },
        {
            "cell_type": "code",
            "execution_count": null,
            "metadata": {},
            "outputs": [],
            "source": "saved_data_path = os.path.join(LocalLogger.directory, file_name + '.csv')\ndata = pd.read_csv(saved_data_path, delimiter=\",\", index_col=0, encoding=\"latin1\", header=0)\nconfig_path = os.path.join(LocalLogger.directory, \"config.json\")\nwith open(config_path, 'r') as f:\n    plot_config = json.load(f)\n"
        },
        {
            "cell_type": "markdown",
            "metadata": {},
            "source": "Plot tuned data\n"
        },
        {
            "cell_type": "code",
            "execution_count": null,
            "metadata": {},
            "outputs": [],
            "source": "figures = plot_timeseries_combined(plot_config, data)\nfor fig in figures:\n    fig.show()\nos.makedirs(LocalLogger.directory, exist_ok=True)\nfor idx, fig in enumerate(figures):\n    suffix = \"_2weeks\" if idx == 1 else \"\"\n    plot_path = os.path.join(LocalLogger.directory, f\"{file_name}{suffix}\")\n    save_pdf(fig, plot_path)\n"
        },
        {
            "cell_type": "markdown",
            "metadata": {},
            "source": "Data tuning completed\n"
        },
        {
            "cell_type": "code",
            "execution_count": null,
            "metadata": {},
            "outputs": [],
            "source": "print(\"Finished\")\n"
        }
    ],
    "metadata": {
        "kernelspec": {
            "display_name": "Python 3",
            "language": "python",
            "name": "python3"
        },
        "language_info": {
            "codemirror_mode": {
                "name": "ipython",
                "version": 3
            },
            "file_extension": ".py",
            "mimetype": "text/x-python",
            "name": "python",
            "nbconvert_exporter": "python",
            "pygments_lexer": "ipython3",
            "version": "3.6.4"
        }
    },
    "nbformat": 4,
    "nbformat_minor": 2
}